{
  "nbformat": 4,
  "nbformat_minor": 0,
  "metadata": {
    "colab": {
      "provenance": []
    },
    "kernelspec": {
      "name": "python3",
      "display_name": "Python 3"
    },
    "language_info": {
      "name": "python"
    }
  },
  "cells": [
    {
      "cell_type": "markdown",
      "source": [
        "1.What is Python, and why is it popular\n",
        "- Python is a high-level, simple-to-learn programming language that enables you to automate processes, analyse data, and create.Python is popular due to its ease of use, versatility, large community support, and wide adoption in various industries.\n",
        "\n",
        "2.What is an interpreter in Python\n",
        "- A Python interpreter is a program that directly executes Python code, line by line, without compiling it first. It reads, parses, and executes the code, providing feedback and allowing for interactive execution.\n",
        "\n",
        "3.What are pre-defined keywords in Python\n",
        "-- Conditional statements (if, else, elif)\n",
        "- Loops (for, while)\n",
        "- Functions (def, return)\n",
        "- Control flow (break, continue, pass)\n",
        "- Boolean values (True, False, None)\n",
        "\n",
        "4.Can keywords be used as variable names\n",
        "- No, keywords in Python cannot be used as variable names. Attempting to do so will result in a SyntaxError.\n",
        "\n",
        "5.What is mutability in Python\n",
        "- In Python, mutability refers to an objects ability to be modified after creation. Mutable objects include lists, dictionaries, and sets, while immutable objects include integers, floats, strings, and tuples.\n",
        "\n",
        "6.Why are lists mutable, but tuples are immutable\n",
        "- Lists are mutable because they are designed to be dynamic and flexible, allowing elements to be added, removed, or modified. Tuples, on the other hand, are immutable because they are designed to be static and secure, ensuring that their contents remain unchanged once created.\n",
        "\n",
        "7.What is the difference between “==” and “is” operators in Python\n",
        "- == checks for equality of values\n",
        "ex. 1 == 2 checks if 1 and 2 have the same value\n",
        "- is checks for identity\n",
        "\n",
        "8.What are logical operators in Python\n",
        "- Python's logical operators are:\n",
        "- and\n",
        "- or\n",
        "- not\n",
        "\n",
        "9.What is type casting in Python\n",
        "- Type casting in Python is converting a value from one data type to another using built-in functions like int(), float(), str(), bool(), list(), tuple(), and dict().\n",
        "\n",
        "10.8 What is the difference between implicit and explicit type casting\n",
        "- Implicit type casting occurs automatically, without user intervention\n",
        "\n",
        "- Explicit type casting uses built-in functions\n",
        "\n",
        "11.What is the purpose of conditional statements in Python\n",
        "- The purpose of conditional statements in Python is to execute specific blocks of code based on certain conditions or decisions, allowing for more control and flexibility in programming.\n",
        "\n",
        "12. How does the elif statement work\n",
        "- The elif statement checks a condition after the initial if condition is false. If the elif condition is true, its code block is executed. If false, it moves to the next elif or else block.\n",
        "\n",
        "13. What is the difference between for and while loops\n",
        "- \"for\" loops are used for iterating over a sequence of elements.\n",
        "-\"while\" loops are used for executing code until a specified condition becomes False.\n",
        "\n",
        "14.Describe a scenario where a while loop is more suitable than a for loop\n",
        "- A while loop is more suitable when:\n",
        "- Waiting for user input to meet a condition\n",
        "- Iterations are unknown or dynamic\n"
      ],
      "metadata": {
        "id": "WwSLSrYxg8IV"
      }
    },
    {
      "cell_type": "code",
      "source": [
        "#1.Write a Python program to print \"Hello, World!\"\n",
        "\n",
        "print(\"Hello, World!\")"
      ],
      "metadata": {
        "id": "wYhiLcvqarnS",
        "outputId": "0c790dc7-4c47-4ecc-d195-6733df712ecd",
        "colab": {
          "base_uri": "https://localhost:8080/"
        }
      },
      "execution_count": null,
      "outputs": [
        {
          "output_type": "stream",
          "name": "stdout",
          "text": [
            "Hello, World!\n"
          ]
        }
      ]
    },
    {
      "cell_type": "code",
      "source": [
        "#2.Write a Python program that displays your name and age\n",
        "\n",
        "name = input (\"Enter your name\")\n",
        "age = input (\"Enter your age\")\n",
        "print(name)\n",
        "print(age)"
      ],
      "metadata": {
        "id": "NJeP1Z9Mb3Fj",
        "outputId": "13735c20-0de2-4a8c-c35a-dd8b9281438e",
        "colab": {
          "base_uri": "https://localhost:8080/"
        }
      },
      "execution_count": null,
      "outputs": [
        {
          "output_type": "stream",
          "name": "stdout",
          "text": [
            "Enter your nameGanesh\n",
            "Enter your age21\n",
            "Ganesh\n",
            "21\n"
          ]
        }
      ]
    },
    {
      "cell_type": "code",
      "source": [
        "#3.Write code to print all the pre-defined keywords in Python using the keyword library\n",
        "\n",
        "import keyword\n",
        "print(keyword.kwlist)"
      ],
      "metadata": {
        "id": "A-iL1Ldnce-O",
        "outputId": "ef076897-d902-4cf2-f9db-ebe9365cba41",
        "colab": {
          "base_uri": "https://localhost:8080/"
        }
      },
      "execution_count": null,
      "outputs": [
        {
          "output_type": "stream",
          "name": "stdout",
          "text": [
            "['False', 'None', 'True', 'and', 'as', 'assert', 'async', 'await', 'break', 'class', 'continue', 'def', 'del', 'elif', 'else', 'except', 'finally', 'for', 'from', 'global', 'if', 'import', 'in', 'is', 'lambda', 'nonlocal', 'not', 'or', 'pass', 'raise', 'return', 'try', 'while', 'with', 'yield']\n"
          ]
        }
      ]
    },
    {
      "cell_type": "code",
      "source": [
        "#4.Write a program that checks if a given word is a Python keyword.\n",
        "import keyword\n",
        "word = input(\"Enter the Keyword\")\n",
        "print(keyword.kwlist)\n",
        "if word in keyword.kwlist:\n",
        "  print('it a python keyword')\n",
        "else:\n",
        "  print('it not a python keyword')\n"
      ],
      "metadata": {
        "id": "y8Zv0MUShAKt",
        "outputId": "3cf07ac4-61e2-4484-b8de-1da0ce10a9e5",
        "colab": {
          "base_uri": "https://localhost:8080/"
        }
      },
      "execution_count": null,
      "outputs": [
        {
          "output_type": "stream",
          "name": "stdout",
          "text": [
            "Enter the KeywordTrue\n",
            "['False', 'None', 'True', 'and', 'as', 'assert', 'async', 'await', 'break', 'class', 'continue', 'def', 'del', 'elif', 'else', 'except', 'finally', 'for', 'from', 'global', 'if', 'import', 'in', 'is', 'lambda', 'nonlocal', 'not', 'or', 'pass', 'raise', 'return', 'try', 'while', 'with', 'yield']\n",
            "it a python keyword\n"
          ]
        }
      ]
    },
    {
      "cell_type": "code",
      "source": [
        "#5.Create a list and tuple in Python, and demonstrate how attempting to change an element works differently for each.\n",
        "\n",
        "my_list = [1,2,3,4]\n",
        "my_list[1] = 5\n",
        "print(my_list)\n",
        "\n",
        "tuple=(my_tuple)\n",
        "my_tuple = (1,2,3,4)\n",
        "my_tuple [1] = 5\n",
        "print(my_tuple)"
      ],
      "metadata": {
        "id": "qwIGflVIry0a",
        "outputId": "152b3314-4952-4285-fada-d4914448d8bd",
        "colab": {
          "base_uri": "https://localhost:8080/",
          "height": 211
        }
      },
      "execution_count": null,
      "outputs": [
        {
          "output_type": "stream",
          "name": "stdout",
          "text": [
            "[1, 5, 3, 4]\n"
          ]
        },
        {
          "output_type": "error",
          "ename": "TypeError",
          "evalue": "'tuple' object does not support item assignment",
          "traceback": [
            "\u001b[0;31m---------------------------------------------------------------------------\u001b[0m",
            "\u001b[0;31mTypeError\u001b[0m                                 Traceback (most recent call last)",
            "\u001b[0;32m<ipython-input-59-4bd19c018262>\u001b[0m in \u001b[0;36m<cell line: 0>\u001b[0;34m()\u001b[0m\n\u001b[1;32m      7\u001b[0m \u001b[0mtuple\u001b[0m\u001b[0;34m=\u001b[0m\u001b[0;34m(\u001b[0m\u001b[0mmy_tuple\u001b[0m\u001b[0;34m)\u001b[0m\u001b[0;34m\u001b[0m\u001b[0;34m\u001b[0m\u001b[0m\n\u001b[1;32m      8\u001b[0m \u001b[0mmy_tuple\u001b[0m \u001b[0;34m=\u001b[0m \u001b[0;34m(\u001b[0m\u001b[0;36m1\u001b[0m\u001b[0;34m,\u001b[0m\u001b[0;36m2\u001b[0m\u001b[0;34m,\u001b[0m\u001b[0;36m3\u001b[0m\u001b[0;34m,\u001b[0m\u001b[0;36m4\u001b[0m\u001b[0;34m)\u001b[0m\u001b[0;34m\u001b[0m\u001b[0;34m\u001b[0m\u001b[0m\n\u001b[0;32m----> 9\u001b[0;31m \u001b[0mmy_tuple\u001b[0m \u001b[0;34m[\u001b[0m\u001b[0;36m1\u001b[0m\u001b[0;34m]\u001b[0m \u001b[0;34m=\u001b[0m \u001b[0;36m5\u001b[0m\u001b[0;34m\u001b[0m\u001b[0;34m\u001b[0m\u001b[0m\n\u001b[0m\u001b[1;32m     10\u001b[0m \u001b[0mprint\u001b[0m\u001b[0;34m(\u001b[0m\u001b[0mmy_tuple\u001b[0m\u001b[0;34m)\u001b[0m\u001b[0;34m\u001b[0m\u001b[0;34m\u001b[0m\u001b[0m\n",
            "\u001b[0;31mTypeError\u001b[0m: 'tuple' object does not support item assignment"
          ]
        }
      ]
    },
    {
      "cell_type": "code",
      "source": [
        "#6.Write a function to demonstrate the behavior of mutable and immutable arguments.\n",
        "def mutable_immutable_demo(my_list, my_string):\n",
        "  \"\"\"Demonstrates the behavior of mutable and immutable arguments.\n",
        "\n",
        "  Args:\n",
        "    my_list: A list that is passed as an argument.\n",
        "    my_string: A string that is passed as an argument.\n",
        "  \"\"\"\n",
        "  print(\"Inside the function:\")\n",
        "  print(\"Before modification, my_list:\", my_list)\n",
        "  my_list.append(4)  # Modifying the list inside the function\n",
        "  print(\"After modification, my_list:\", my_list)\n",
        "\n",
        "  print(\"Before modification, my_string:\", my_string)\n",
        "  my_string += \" World\"  # Modifying the string inside the function\n",
        "  print(\"After modification, my_string:\", my_string)\n",
        "\n",
        "\n",
        "# Example usage\n",
        "my_list_outside = [1, 2, 3]\n",
        "my_string_outside = \"Hello\"\n",
        "print(\"Outside the function, before calling the function:\")\n",
        "print(\"my_list:\", my_list_outside)\n",
        "print(\"my_string:\", my_string_outside)\n",
        "\n",
        "mutable_immutable_demo(my_list_outside, my_string_outside)\n",
        "\n",
        "print(\"Outside the function, after calling the function:\")\n",
        "print(\"my_list:\", my_list_outside)  # The list is modified because it's mutable\n",
        "print(\"my_string:\", my_string_outside)  # The string is not modified because it's immutable\n"
      ],
      "metadata": {
        "id": "n2FDUfoBtWq1",
        "outputId": "490227b1-f5ce-454e-9725-402a804e7636",
        "colab": {
          "base_uri": "https://localhost:8080/"
        }
      },
      "execution_count": 17,
      "outputs": [
        {
          "output_type": "stream",
          "name": "stdout",
          "text": [
            "Outside the function, before calling the function:\n",
            "my_list: [1, 2, 3]\n",
            "my_string: Hello\n",
            "Inside the function:\n",
            "Before modification, my_list: [1, 2, 3]\n",
            "After modification, my_list: [1, 2, 3, 4]\n",
            "Before modification, my_string: Hello\n",
            "After modification, my_string: Hello World\n",
            "Outside the function, after calling the function:\n",
            "my_list: [1, 2, 3, 4]\n",
            "my_string: Hello\n"
          ]
        }
      ]
    },
    {
      "cell_type": "code",
      "source": [
        "#7.Write a program that performs basic arithmetic operations on two user-input numbers.\n",
        "\n",
        "num1=int(input(\"Enter the first nummber\"))\n",
        "num2=int(input(\"Enter the second number\"))\n",
        "ADD=int((num1+num2))\n",
        "print(\"ADD\",ADD)\n",
        "num1=int(input(\"Enter the first nummber\"))\n",
        "num2=int(input(\"Enter the second number\"))\n",
        "sum=int(num1-num2)\n",
        "print(\"sum\",sum)\n",
        "num1=int(input(\"Enter the first nummber\"))\n",
        "num2=int(input(\"Enter the second number\"))\n",
        "mul=int(num1*num2)\n",
        "print(\"mul\",mul)\n",
        "num1=int(input(\"Enter the first nummber\"))\n",
        "num2=int(input(\"Enter the second number\"))\n",
        "Div=int((num1/num2))\n",
        "print(\"Div\",Div)\n",
        "if Div%2:\n",
        "  print(\"div is even\")\n",
        "else:\n",
        "    print(\"div is odd\")"
      ],
      "metadata": {
        "id": "JWAdXgCoVKkw",
        "outputId": "dd59e294-ca38-41dd-ca65-f2dd96d016ba",
        "colab": {
          "base_uri": "https://localhost:8080/"
        }
      },
      "execution_count": null,
      "outputs": [
        {
          "output_type": "stream",
          "name": "stdout",
          "text": [
            "Enter the first nummber14\n",
            "Enter the second number13\n",
            "ADD 27\n",
            "Enter the first nummber23\n",
            "Enter the second number23\n",
            "sum 0\n",
            "Enter the first nummber12\n",
            "Enter the second number23\n",
            "mul 276\n",
            "Enter the first nummber3\n",
            "Enter the second number4\n",
            "Div 0\n",
            "div is odd\n"
          ]
        }
      ]
    },
    {
      "cell_type": "code",
      "source": [
        "#8.Write a program to demonstrate the use of logical operators.\n",
        "# Program to demonstrate the use of logical operators\n",
        "\n",
        "# Example 1: AND operator\n",
        "age = 25\n",
        "is_student = True\n",
        "\n",
        "if age >= 18 and is_student:\n",
        "  print(\"You are an adult student.\")\n",
        "else:\n",
        "  print(\"You are either not an adult or not a student.\")\n",
        "\n",
        "# Example 2: OR operator\n",
        "has_driving_license = False\n",
        "has_public_transport = True\n",
        "\n",
        "if has_driving_license or has_public_transport:\n",
        "  print(\"You can travel to work.\")\n",
        "else:\n",
        "  print(\"You need to find another way to travel.\")\n",
        "\n",
        "# Example 3: NOT operator\n",
        "is_raining = True\n",
        "\n",
        "if not is_raining:\n",
        "  print(\"It's a sunny day.\")\n",
        "else:\n",
        "  print(\"It's raining.\")\n",
        "\n",
        "# Example 4: Combining logical operators\n",
        "temperature = 20\n",
        "is_sunny = True\n",
        "\n",
        "if temperature > 15 and is_sunny:\n",
        "  print(\"It's a warm and sunny day, perfect for outdoor activities.\")\n",
        "elif temperature > 15 and not is_sunny:\n",
        "  print(\"It's a warm day, but it's not sunny.\")\n",
        "else:\n",
        "  print(\"It's not a warm day.\")"
      ],
      "metadata": {
        "id": "PyVLNze1Zjgn",
        "colab": {
          "base_uri": "https://localhost:8080/"
        },
        "outputId": "cf851563-8db4-483a-bcda-5b42df480b3f"
      },
      "execution_count": 18,
      "outputs": [
        {
          "output_type": "stream",
          "name": "stdout",
          "text": [
            "You are an adult student.\n",
            "You can travel to work.\n",
            "It's raining.\n",
            "It's a warm and sunny day, perfect for outdoor activities.\n"
          ]
        }
      ]
    },
    {
      "cell_type": "code",
      "source": [
        "#9.Write a Python program to convert user input from string to integer, float, and boolean types.\n",
        "user_input = input(\"Enter a non-numeric string: \")\n",
        "try:\n",
        "    int_value = int(user_input)\n",
        "    print(f\"Converted to Integer: {int_value}\")\n",
        "except ValueError:\n",
        "    print(\"Couldn't convert to Integer.\")\n",
        "\n",
        "# Float Conversion\n",
        "try:\n",
        "    float_value = float(user_input)\n",
        "    print(f\"Converted to Float: {float_value}\")\n",
        "except ValueError:\n",
        "    print(\"Couldn't convert to Float.\")\n",
        "\n",
        "# Boolean Conversion\n",
        "bool_value = user_input.lower() in ['true', '1', 'yes', 'y']\n",
        "print(f\"Converted to Boolean: {bool_value}\")\n"
      ],
      "metadata": {
        "colab": {
          "base_uri": "https://localhost:8080/"
        },
        "id": "so88FcFOs88v",
        "outputId": "839531e7-9f2a-4ef0-d900-be3b0e45cd09"
      },
      "execution_count": 43,
      "outputs": [
        {
          "output_type": "stream",
          "name": "stdout",
          "text": [
            "Enter a non-numeric string: 3\n",
            "Converted to Integer: 3\n",
            "Converted to Float: 3.0\n",
            "Converted to Boolean: False\n"
          ]
        }
      ]
    },
    {
      "cell_type": "code",
      "source": [
        "#10.Write code to demonstrate type casting with list elements.\n",
        "\n",
        "# Original list with mixed data types\n",
        "original_list = ['10', '3.14', 'True', 'False', '100']\n",
        "\n",
        "# Converting string elements to int\n",
        "int_list = [int(item) if item.isdigit() else None for item in original_list]\n",
        "print(\"Converted to Integer:\", int_list)\n",
        "\n",
        "# Converting string elements to float\n",
        "float_list = [float(item) if item.replace('.', '', 1).isdigit() else None for item in original_list]\n",
        "print(\"Converted to Float:\", float_list)\n",
        "\n",
        "# Converting string elements to boolean\n",
        "bool_list = [item.lower() in ['true', '1', 'yes', 'y'] for item in original_list]\n",
        "print(\"Converted to Boolean:\", bool_list)\n",
        "\n",
        "# Converting string elements to string (just for demonstration)\n",
        "str_list = [str(item) for item in original_list]\n",
        "print(\"Converted to String:\", str_list)\n",
        "\n"
      ],
      "metadata": {
        "colab": {
          "base_uri": "https://localhost:8080/"
        },
        "id": "PPqHWyPU69VW",
        "outputId": "76c46821-29f8-4d8c-e67e-02667d115285"
      },
      "execution_count": 47,
      "outputs": [
        {
          "output_type": "stream",
          "name": "stdout",
          "text": [
            "Converted to Integer: [10, None, None, None, 100]\n",
            "Converted to Float: [10.0, 3.14, None, None, 100.0]\n",
            "Converted to Boolean: [False, False, True, False, False]\n",
            "Converted to String: ['10', '3.14', 'True', 'False', '100']\n"
          ]
        }
      ]
    },
    {
      "cell_type": "code",
      "source": [
        "#11.Write a program that checks if a number is positive, negative, or zero.\n",
        "\n",
        "# Taking user input\n",
        "number = float(input(\"Enter a number: \"))\n",
        "\n",
        "# Check if the number is positive, negative, or zero\n",
        "if number > 0:\n",
        "    print(\"The number is positive.\")\n",
        "elif number < 0:\n",
        "    print(\"The number is negative.\")\n",
        "else:\n",
        "    print(\"The number is zero.\")\n",
        "\n"
      ],
      "metadata": {
        "colab": {
          "base_uri": "https://localhost:8080/"
        },
        "id": "Fn8dQYZ8-JEg",
        "outputId": "082092b9-ec94-40c4-82e1-3ce001bdf8ff"
      },
      "execution_count": 49,
      "outputs": [
        {
          "output_type": "stream",
          "name": "stdout",
          "text": [
            "Enter a number: 5\n",
            "The number is positive.\n"
          ]
        }
      ]
    },
    {
      "cell_type": "code",
      "source": [
        "#12. Write a for loop to print numbers from 1 to 10.\n",
        "for i in range(1,11):\n",
        "  print(i)"
      ],
      "metadata": {
        "colab": {
          "base_uri": "https://localhost:8080/"
        },
        "id": "3nJt1Uz7-ZD2",
        "outputId": "b76e815d-c396-40aa-a2ee-cd2cfba295ee"
      },
      "execution_count": 50,
      "outputs": [
        {
          "output_type": "stream",
          "name": "stdout",
          "text": [
            "1\n",
            "2\n",
            "3\n",
            "4\n",
            "5\n",
            "6\n",
            "7\n",
            "8\n",
            "9\n",
            "10\n"
          ]
        }
      ]
    },
    {
      "cell_type": "code",
      "source": [
        "#13.Write a Python program to find the sum of all even numbers between 1 and 50.\n",
        "\n",
        "# Initialize the sum to 0\n",
        "sum_even = 0\n",
        "\n",
        "# Loop through numbers from 1 to 50\n",
        "for number in range(1, 50):\n",
        "    if number % 2 == 0:\n",
        "      sum_even = number\n",
        "      print(\"The sum of all even numbers between 1 and 50 is:\", sum_even)"
      ],
      "metadata": {
        "colab": {
          "base_uri": "https://localhost:8080/"
        },
        "id": "oUNcheFe-qR3",
        "outputId": "f30362fa-3e7d-4ae2-fba8-280ed7b14841"
      },
      "execution_count": 58,
      "outputs": [
        {
          "output_type": "stream",
          "name": "stdout",
          "text": [
            "The sum of all even numbers between 1 and 50 is: 2\n",
            "The sum of all even numbers between 1 and 50 is: 4\n",
            "The sum of all even numbers between 1 and 50 is: 6\n",
            "The sum of all even numbers between 1 and 50 is: 8\n",
            "The sum of all even numbers between 1 and 50 is: 10\n",
            "The sum of all even numbers between 1 and 50 is: 12\n",
            "The sum of all even numbers between 1 and 50 is: 14\n",
            "The sum of all even numbers between 1 and 50 is: 16\n",
            "The sum of all even numbers between 1 and 50 is: 18\n",
            "The sum of all even numbers between 1 and 50 is: 20\n",
            "The sum of all even numbers between 1 and 50 is: 22\n",
            "The sum of all even numbers between 1 and 50 is: 24\n",
            "The sum of all even numbers between 1 and 50 is: 26\n",
            "The sum of all even numbers between 1 and 50 is: 28\n",
            "The sum of all even numbers between 1 and 50 is: 30\n",
            "The sum of all even numbers between 1 and 50 is: 32\n",
            "The sum of all even numbers between 1 and 50 is: 34\n",
            "The sum of all even numbers between 1 and 50 is: 36\n",
            "The sum of all even numbers between 1 and 50 is: 38\n",
            "The sum of all even numbers between 1 and 50 is: 40\n",
            "The sum of all even numbers between 1 and 50 is: 42\n",
            "The sum of all even numbers between 1 and 50 is: 44\n",
            "The sum of all even numbers between 1 and 50 is: 46\n",
            "The sum of all even numbers between 1 and 50 is: 48\n"
          ]
        }
      ]
    },
    {
      "cell_type": "code",
      "source": [
        "#14. Write a program to reverse a string using a while loop.\n",
        "\n",
        "# Input string from the user\n",
        "string = input(\"Enter a string: \")\n",
        "\n",
        "# Initialize variables\n",
        "reversed_string = \"\"\n",
        "index = len(string) - 1\n",
        "\n",
        "# Using a while loop to reverse the string\n",
        "while index >= 0:\n",
        "    reversed_string += string[index]  # Add the current character to the reversed string\n",
        "    index -= 1  # Move to the previous character\n",
        "\n",
        "# Print the reversed string\n",
        "print(\"Reversed string:\", reversed_string)\n"
      ],
      "metadata": {
        "colab": {
          "base_uri": "https://localhost:8080/"
        },
        "id": "VJXr1oVjAJWO",
        "outputId": "afa4ca8b-789a-4dcb-dbdb-72ba51928b86"
      },
      "execution_count": 59,
      "outputs": [
        {
          "output_type": "stream",
          "name": "stdout",
          "text": [
            "Enter a string: 5\n",
            "Reversed string: 5\n"
          ]
        }
      ]
    },
    {
      "cell_type": "code",
      "source": [
        "#15.Write a Python program to calculate the factorial of a number provided by the user using a while loop.\n",
        "\n",
        "# Input number from the user\n",
        "number = int(input(\"Enter a number to calculate its factorial: \"))\n",
        "\n",
        "# Initialize variables\n",
        "factorial = 1\n",
        "counter = number\n",
        "\n",
        "# Check if the number is negative, as factorial is not defined for negative numbers\n",
        "if number < 0:\n",
        "    print(\"Factorial is not defined for negative numbers.\")\n",
        "else:\n",
        "    # Use a while loop to calculate factorial\n",
        "    while counter > 0:\n",
        "        factorial *= counter  # Multiply the current factorial by the counter\n",
        "        counter -= 1  # Decrement the counter\n",
        "\n",
        "    # Print the result\n",
        "    print(f\"The factorial of {number} is {factorial}\")\n"
      ],
      "metadata": {
        "colab": {
          "base_uri": "https://localhost:8080/"
        },
        "id": "BUuPyhIzAgBx",
        "outputId": "456b10b6-6d3a-4721-fc53-bc2caff95401"
      },
      "execution_count": 60,
      "outputs": [
        {
          "output_type": "stream",
          "name": "stdout",
          "text": [
            "Enter a number to calculate its factorial: 12\n",
            "The factorial of 12 is 479001600\n"
          ]
        }
      ]
    }
  ]
}